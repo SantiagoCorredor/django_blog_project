{
 "cells": [
  {
   "cell_type": "code",
   "execution_count": 2,
   "metadata": {},
   "outputs": [
    {
     "name": "stdout",
     "output_type": "stream",
     "text": [
      "Error en la conexión: 'utf-8' codec can't decode byte 0xf3 in position 85: invalid continuation byte\n"
     ]
    }
   ],
   "source": [
    "import psycopg2\n",
    "\n",
    "connection = None  # Inicializa la variable\n",
    "\n",
    "try:\n",
    "    connection = psycopg2.connect(\n",
    "        dbname='blogdb',\n",
    "        user='postgres',\n",
    "        password='password_test',\n",
    "        host='localhost',\n",
    "        port='5432'\n",
    "    )\n",
    "    print(\"Conexión exitosa a la base de datos.\")\n",
    "except Exception as e:\n",
    "    print(\"Error en la conexión:\", e)\n",
    "finally:\n",
    "    if connection:  # Verifica si 'connection' se ha inicializado correctamente\n",
    "        connection.close()\n"
   ]
  }
 ],
 "metadata": {
  "kernelspec": {
   "display_name": "env_blog",
   "language": "python",
   "name": "python3"
  },
  "language_info": {
   "codemirror_mode": {
    "name": "ipython",
    "version": 3
   },
   "file_extension": ".py",
   "mimetype": "text/x-python",
   "name": "python",
   "nbconvert_exporter": "python",
   "pygments_lexer": "ipython3",
   "version": "3.11.9"
  }
 },
 "nbformat": 4,
 "nbformat_minor": 2
}
